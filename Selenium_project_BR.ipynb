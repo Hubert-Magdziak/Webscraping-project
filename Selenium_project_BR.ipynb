{
 "cells": [
  {
   "cell_type": "code",
   "execution_count": 3,
   "metadata": {},
   "outputs": [],
   "source": [
    "# Import necessary libraries\n",
    "import pandas as pd\n",
    "import numpy as np\n",
    "import matplotlib.pyplot as plt\n",
    "import selenium\n",
    "from selenium import webdriver\n",
    "# We will use Chrome for scraping\n",
    "from webdriver_manager.chrome import ChromeDriverManager\n",
    "from selenium.webdriver.chrome.service import Service\n",
    "from selenium.webdriver.common.action_chains import ActionChains\n",
    "import time\n"
   ]
  },
  {
   "cell_type": "code",
   "execution_count": 4,
   "metadata": {},
   "outputs": [
    {
     "name": "stdout",
     "output_type": "stream",
     "text": [
      "C:\\Users\\Bartłomiej\\.wdm\\drivers\\chromedriver\\win64\\123.0.6312.122\\chromedriver-win32/chromedriver.exe\n"
     ]
    }
   ],
   "source": [
    "chromepath = ChromeDriverManager().install()\n",
    "print(chromepath)"
   ]
  },
  {
   "cell_type": "code",
   "execution_count": null,
   "metadata": {},
   "outputs": [],
   "source": [
    "website = \"https://policja.pl/pol/form/1,Informacja-dzienna.html?page=0\"\n",
    "\n",
    "last_page=20\n",
    "\n",
    "service_chrome = Service(executable_path=chromepath)\n",
    "options_chrome = webdriver.ChromeOptions()\n",
    "driver_chrome = webdriver.Chrome(service=service_chrome, options=options_chrome)\n",
    "# Maximize the browser window\n",
    "#driver_chrome.maximize_window()\n",
    "# Open a website\n",
    "driver_chrome.get(website)\n",
    "number = driver_chrome.find_element(\"xpath\", \"/html/body/div[3]/div[3]/div[2]/div/div[2]/div[2]/ul/li[15]/a\").getText()\n",
    "print(number)"
   ]
  },
  {
   "cell_type": "code",
   "execution_count": 1,
   "metadata": {},
   "outputs": [
    {
     "ename": "NameError",
     "evalue": "name 'Service' is not defined",
     "output_type": "error",
     "traceback": [
      "\u001b[1;31m---------------------------------------------------------------------------\u001b[0m",
      "\u001b[1;31mNameError\u001b[0m                                 Traceback (most recent call last)",
      "Cell \u001b[1;32mIn[1], line 5\u001b[0m\n\u001b[0;32m      1\u001b[0m website \u001b[38;5;241m=\u001b[39m \u001b[38;5;124m\"\u001b[39m\u001b[38;5;124mhttps://policja.pl/pol/form/1,Informacja-dzienna.html?page=0\u001b[39m\u001b[38;5;124m\"\u001b[39m\n\u001b[0;32m      3\u001b[0m last_page\u001b[38;5;241m=\u001b[39m\u001b[38;5;241m20\u001b[39m\n\u001b[1;32m----> 5\u001b[0m service_chrome \u001b[38;5;241m=\u001b[39m \u001b[43mService\u001b[49m(executable_path\u001b[38;5;241m=\u001b[39mchromepath)\n\u001b[0;32m      6\u001b[0m options_chrome \u001b[38;5;241m=\u001b[39m webdriver\u001b[38;5;241m.\u001b[39mChromeOptions()\n\u001b[0;32m      7\u001b[0m driver_chrome \u001b[38;5;241m=\u001b[39m webdriver\u001b[38;5;241m.\u001b[39mChrome(service\u001b[38;5;241m=\u001b[39mservice_chrome, options\u001b[38;5;241m=\u001b[39moptions_chrome)\n",
      "\u001b[1;31mNameError\u001b[0m: name 'Service' is not defined"
     ]
    }
   ],
   "source": [
    "website = \"https://policja.pl/pol/form/1,Informacja-dzienna.html?page=0\"\n",
    "\n",
    "last_page=20\n",
    "\n",
    "service_chrome = Service(executable_path=chromepath)\n",
    "options_chrome = webdriver.ChromeOptions()\n",
    "driver_chrome = webdriver.Chrome(service=service_chrome, options=options_chrome)\n",
    "# Maximize the browser window\n",
    "driver_chrome.maximize_window()\n",
    "# Open a website\n",
    "driver_chrome.get(website)\n",
    "\n",
    "\n",
    "for i in range(10,16):\n",
    "    #for firt 7 pages button xpath changes so we need to use dynamic loop\n",
    "    next_page_button_xpath =f\"/html/body/div[3]/div[3]/div[2]/div/div[2]/div[2]/ul/li[{i}]/a\"\n",
    "    time.sleep(2)\n",
    "    content = driver_chrome.find_element(\"xpath\", next_page_button_xpath)\n",
    "    content.click()\n",
    "page=8\n",
    "while page<last_page:\n",
    "    #button xpath is constant so we can iterate till end\n",
    "    next_page_button_xpath =\"/html/body/div[3]/div[3]/div[2]/div/div[2]/div[2]/ul/li[16]/a\"\n",
    "    time.sleep(2)\n",
    "    content = driver_chrome.find_element(\"xpath\", next_page_button_xpath)\n",
    "    content.click()\n",
    "    page+=1\n",
    "\n"
   ]
  }
 ],
 "metadata": {
  "kernelspec": {
   "display_name": "Python 3",
   "language": "python",
   "name": "python3"
  },
  "language_info": {
   "codemirror_mode": {
    "name": "ipython",
    "version": 3
   },
   "file_extension": ".py",
   "mimetype": "text/x-python",
   "name": "python",
   "nbconvert_exporter": "python",
   "pygments_lexer": "ipython3",
   "version": "3.11.9"
  }
 },
 "nbformat": 4,
 "nbformat_minor": 2
}
