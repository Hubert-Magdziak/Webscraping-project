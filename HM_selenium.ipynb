{
 "cells": [
  {
   "cell_type": "markdown",
   "metadata": {},
   "source": [
    "# Libraries"
   ]
  },
  {
   "cell_type": "code",
   "execution_count": 30,
   "metadata": {},
   "outputs": [],
   "source": [
    "# Import necessary libraries\n",
    "import pandas as pd\n",
    "import numpy as np\n",
    "import matplotlib.pyplot as plt\n",
    "import selenium\n",
    "from selenium import webdriver\n",
    "# We will use Chrome for scraping\n",
    "from webdriver_manager.chrome import ChromeDriverManager\n",
    "from selenium.webdriver.chrome.service import Service\n",
    "from selenium.webdriver.common.action_chains import ActionChains\n",
    "import time\n",
    "from bs4 import BeautifulSoup"
   ]
  },
  {
   "cell_type": "code",
   "execution_count": 5,
   "metadata": {},
   "outputs": [
    {
     "name": "stdout",
     "output_type": "stream",
     "text": [
      "C:\\Users\\User\\.wdm\\drivers\\chromedriver\\win64\\123.0.6312.122\\chromedriver-win32/chromedriver.exe\n"
     ]
    }
   ],
   "source": [
    "chromepath = ChromeDriverManager().install()\n",
    "print(chromepath)"
   ]
  },
  {
   "cell_type": "markdown",
   "metadata": {},
   "source": [
    "# Selenium"
   ]
  },
  {
   "cell_type": "code",
   "execution_count": 43,
   "metadata": {},
   "outputs": [],
   "source": [
    "website = \"https://lodzka.policja.gov.pl/\"\n",
    "# xpath for button \"RUCH DROGOWY\"\n",
    "ruch_drogowy_button_xpath = \"//span[contains(text(),'Ruch Drogowy')]\"\n",
    "\n",
    "service_chrome = Service(executable_path=chromepath)\n",
    "options_chrome = webdriver.ChromeOptions()\n",
    "driver_chrome = webdriver.Chrome(service=service_chrome, options=options_chrome)\n",
    "# Maximize the browser window\n",
    "driver_chrome.maximize_window()\n",
    "# Open a website\n",
    "driver_chrome.get(website)\n",
    "# Delay the website\n",
    "time.sleep(3)\n",
    "content = driver_chrome.find_element(\"xpath\", ruch_drogowy_button_xpath)\n",
    "# Click the \"RUCH DROGOWY\" button\n",
    "content.click()\n",
    "# Delay the website\n",
    "time.sleep(3)\n",
    "\n",
    "last_height = driver_chrome.execute_script(\"return document.body.scrollHeight\")\n",
    "driver_chrome.execute_script(\"window.scrollTo(0,2200)\")\n",
    "\n",
    "# Delay the website\n",
    "time.sleep(3)\n",
    "# xpath for button \"pokaz wiecej\"\n",
    "pokaz_wiecej_button_xpath = \"//body/div[@id='page']/div[@id='content']/article[@id='wtxt']/div[2]/div[2]/a[1]\"\n",
    "content = driver_chrome.find_element(\"xpath\", pokaz_wiecej_button_xpath)\n",
    "# Click the \"RUCH DROGOWY\" button\n",
    "content.click()\n",
    "\n",
    "# Get the HTML content of the page\n",
    "content = driver_chrome.find_element(\"xpath\", \"//*\")\n",
    "source_code = content.get_attribute(\"outerHTML\")"
   ]
  },
  {
   "cell_type": "markdown",
   "metadata": {},
   "source": [
    "# BeautifulSoup for scraping most actual headers of the articles"
   ]
  },
  {
   "cell_type": "code",
   "execution_count": 78,
   "metadata": {},
   "outputs": [
    {
     "data": {
      "text/html": [
       "<div>\n",
       "<style scoped>\n",
       "    .dataframe tbody tr th:only-of-type {\n",
       "        vertical-align: middle;\n",
       "    }\n",
       "\n",
       "    .dataframe tbody tr th {\n",
       "        vertical-align: top;\n",
       "    }\n",
       "\n",
       "    .dataframe thead th {\n",
       "        text-align: right;\n",
       "    }\n",
       "</style>\n",
       "<table border=\"1\" class=\"dataframe\">\n",
       "  <thead>\n",
       "    <tr style=\"text-align: right;\">\n",
       "      <th></th>\n",
       "      <th>Headers</th>\n",
       "    </tr>\n",
       "  </thead>\n",
       "  <tbody>\n",
       "    <tr>\n",
       "      <th>0</th>\n",
       "      <td>Wielkanoc 2024 - Bezpieczniej na drogach wojew...</td>\n",
       "    </tr>\n",
       "    <tr>\n",
       "      <th>1</th>\n",
       "      <td>Bezpieczna droga do celu – mówimy stanowcze NI...</td>\n",
       "    </tr>\n",
       "    <tr>\n",
       "      <th>2</th>\n",
       "      <td>„WIELKANOC 2024”</td>\n",
       "    </tr>\n",
       "    <tr>\n",
       "      <th>3</th>\n",
       "      <td>Uwaga, może być ślisko na drogach!</td>\n",
       "    </tr>\n",
       "    <tr>\n",
       "      <th>4</th>\n",
       "      <td>Ruszyła akcja „Łapki na kierownicę”</td>\n",
       "    </tr>\n",
       "    <tr>\n",
       "      <th>5</th>\n",
       "      <td>„Na Drodze – Patrz i Słuchaj”</td>\n",
       "    </tr>\n",
       "    <tr>\n",
       "      <th>6</th>\n",
       "      <td>Policjanci podsumowali działania „Bezpieczne F...</td>\n",
       "    </tr>\n",
       "    <tr>\n",
       "      <th>7</th>\n",
       "      <td>Podsumowanie Akcji \"Truck &amp; Bus\"</td>\n",
       "    </tr>\n",
       "    <tr>\n",
       "      <th>8</th>\n",
       "      <td>Policyjne działania - TRUCK &amp; BUS</td>\n",
       "    </tr>\n",
       "    <tr>\n",
       "      <th>9</th>\n",
       "      <td>Zwolnij! Jak kocha to poczeka. Łamiąc przepisy...</td>\n",
       "    </tr>\n",
       "  </tbody>\n",
       "</table>\n",
       "</div>"
      ],
      "text/plain": [
       "                                             Headers\n",
       "0  Wielkanoc 2024 - Bezpieczniej na drogach wojew...\n",
       "1  Bezpieczna droga do celu – mówimy stanowcze NI...\n",
       "2                                   „WIELKANOC 2024”\n",
       "3                 Uwaga, może być ślisko na drogach!\n",
       "4                Ruszyła akcja „Łapki na kierownicę”\n",
       "5                      „Na Drodze – Patrz i Słuchaj”\n",
       "6  Policjanci podsumowali działania „Bezpieczne F...\n",
       "7                   Podsumowanie Akcji \"Truck & Bus\"\n",
       "8                  Policyjne działania - TRUCK & BUS\n",
       "9  Zwolnij! Jak kocha to poczeka. Łamiąc przepisy..."
      ]
     },
     "execution_count": 78,
     "metadata": {},
     "output_type": "execute_result"
    }
   ],
   "source": [
    "# Parse the html content of the webpage\n",
    "html = BeautifulSoup(source_code, 'html.parser')\n",
    "results = list()\n",
    "for header in html.find_all('strong'):\n",
    "    if \"span\" not in str(header):\n",
    "        results.append(header.text)\n",
    "pd.DataFrame({'Headers': results})\n"
   ]
  }
 ],
 "metadata": {
  "kernelspec": {
   "display_name": "Python 3",
   "language": "python",
   "name": "python3"
  },
  "language_info": {
   "codemirror_mode": {
    "name": "ipython",
    "version": 3
   },
   "file_extension": ".py",
   "mimetype": "text/x-python",
   "name": "python",
   "nbconvert_exporter": "python",
   "pygments_lexer": "ipython3",
   "version": "3.11.5"
  }
 },
 "nbformat": 4,
 "nbformat_minor": 2
}
