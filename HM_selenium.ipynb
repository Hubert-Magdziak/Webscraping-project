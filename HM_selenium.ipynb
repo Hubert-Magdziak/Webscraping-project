{
 "cells": [
  {
   "cell_type": "markdown",
   "metadata": {},
   "source": [
    "# Libraries"
   ]
  },
  {
   "cell_type": "code",
   "execution_count": 13,
   "metadata": {},
   "outputs": [],
   "source": [
    "# Import necessary libraries\n",
    "import pandas as pd\n",
    "import numpy as np\n",
    "import matplotlib.pyplot as plt\n",
    "import selenium\n",
    "from selenium import webdriver\n",
    "# We will use Chrome for scraping\n",
    "from webdriver_manager.chrome import ChromeDriverManager\n",
    "from selenium.webdriver.chrome.service import Service\n",
    "from selenium.webdriver.common.action_chains import ActionChains\n",
    "import time"
   ]
  },
  {
   "cell_type": "code",
   "execution_count": 5,
   "metadata": {},
   "outputs": [
    {
     "name": "stdout",
     "output_type": "stream",
     "text": [
      "C:\\Users\\User\\.wdm\\drivers\\chromedriver\\win64\\123.0.6312.122\\chromedriver-win32/chromedriver.exe\n"
     ]
    }
   ],
   "source": [
    "chromepath = ChromeDriverManager().install()\n",
    "print(chromepath)"
   ]
  },
  {
   "cell_type": "code",
   "execution_count": 28,
   "metadata": {},
   "outputs": [],
   "source": [
    "website = \"https://lodzka.policja.gov.pl/\"\n",
    "# xpath for button \"RUCH DROGOWY\"\n",
    "ruch_drogowy_button_xpath = \"//span[contains(text(),'Ruch Drogowy')]\"\n",
    "\n",
    "service_chrome = Service(executable_path=chromepath)\n",
    "options_chrome = webdriver.ChromeOptions()\n",
    "driver_chrome = webdriver.Chrome(service=service_chrome, options=options_chrome)\n",
    "# Maximize the browser window\n",
    "driver_chrome.maximize_window()\n",
    "# Open a website\n",
    "driver_chrome.get(website)\n",
    "# Delay the website\n",
    "time.sleep(3)\n",
    "content = driver_chrome.find_element(\"xpath\", ruch_drogowy_button_xpath)\n",
    "# Click the \"RUCH DROGOWY\" button\n",
    "content.click()\n",
    "# Delay the website\n",
    "time.sleep(3)\n",
    "\n",
    "last_height = driver_chrome.execute_script(\"return document.body.scrollHeight\")\n",
    "driver_chrome.execute_script(\"window.scrollTo(0,2200)\")\n",
    "\n",
    "time.sleep(3)\n",
    "pokaz_wiecej_button_xpath = \"//body/div[@id='page']/div[@id='content']/article[@id='wtxt']/div[2]/div[2]/a[1]\"\n",
    "content = driver_chrome.find_element(\"xpath\", pokaz_wiecej_button_xpath)\n",
    "# Click the \"RUCH DROGOWY\" button\n",
    "content.click()\n",
    "time.sleep(3)"
   ]
  }
 ],
 "metadata": {
  "kernelspec": {
   "display_name": "Python 3",
   "language": "python",
   "name": "python3"
  },
  "language_info": {
   "codemirror_mode": {
    "name": "ipython",
    "version": 3
   },
   "file_extension": ".py",
   "mimetype": "text/x-python",
   "name": "python",
   "nbconvert_exporter": "python",
   "pygments_lexer": "ipython3",
   "version": "3.11.5"
  }
 },
 "nbformat": 4,
 "nbformat_minor": 2
}
